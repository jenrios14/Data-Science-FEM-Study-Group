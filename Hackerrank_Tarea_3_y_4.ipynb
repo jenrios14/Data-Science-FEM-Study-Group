{
  "nbformat": 4,
  "nbformat_minor": 0,
  "metadata": {
    "colab": {
      "name": "Hackerrank: Tarea 3 y 4.ipynb",
      "provenance": [],
      "authorship_tag": "ABX9TyMQOIHT+Y++ZvfzRBAzWKTM",
      "include_colab_link": true
    },
    "kernelspec": {
      "name": "python3",
      "display_name": "Python 3"
    }
  },
  "cells": [
    {
      "cell_type": "markdown",
      "metadata": {
        "id": "view-in-github",
        "colab_type": "text"
      },
      "source": [
        "<a href=\"https://colab.research.google.com/github/jenrios14/Data-Science-FEM-Study-Group/blob/master/Hackerrank_Tarea_3_y_4.ipynb\" target=\"_parent\"><img src=\"https://colab.research.google.com/assets/colab-badge.svg\" alt=\"Open In Colab\"/></a>"
      ]
    },
    {
      "cell_type": "markdown",
      "metadata": {
        "id": "qNqA1hhZ9Fnr",
        "colab_type": "text"
      },
      "source": [
        "## **Tarea 3: Arithmetic operators**"
      ]
    },
    {
      "cell_type": "code",
      "metadata": {
        "id": "7EwCrT8Ur-FY",
        "colab_type": "code",
        "outputId": "71c1be2f-abf5-4dcd-a5c5-cc3d1d8e1fd1",
        "colab": {
          "base_uri": "https://localhost:8080/",
          "height": 102
        }
      },
      "source": [
        " a = int(input())\n",
        " b = int(input())\n",
        " print(\"{}\\n{}\\n{}\".format(a+b, a-b, a*b))"
      ],
      "execution_count": 0,
      "outputs": [
        {
          "output_type": "stream",
          "text": [
            "3\n",
            "2\n",
            "5\n",
            "1\n",
            "6\n"
          ],
          "name": "stdout"
        }
      ]
    },
    {
      "cell_type": "markdown",
      "metadata": {
        "id": "MxdKoh7j997P",
        "colab_type": "text"
      },
      "source": [
        "### **Tarea 4: Division**"
      ]
    },
    {
      "cell_type": "code",
      "metadata": {
        "id": "FVfz3Kpq-CTV",
        "colab_type": "code",
        "colab": {
          "base_uri": "https://localhost:8080/",
          "height": 85
        },
        "outputId": "73f25029-98ab-4e69-dcb4-9b5ec00f7bc1"
      },
      "source": [
        " a = int(input())\n",
        " b = int(input())\n",
        " print(\"{}\\n{}\".format(a//b,a/b))"
      ],
      "execution_count": 26,
      "outputs": [
        {
          "output_type": "stream",
          "text": [
            "3\n",
            "2\n",
            "1\n",
            "1.5\n"
          ],
          "name": "stdout"
        }
      ]
    },
    {
      "cell_type": "code",
      "metadata": {
        "id": "76r8Sr1JG2_W",
        "colab_type": "code",
        "colab": {}
      },
      "source": [
        "3\n"
      ],
      "execution_count": 0,
      "outputs": []
    }
  ]
}