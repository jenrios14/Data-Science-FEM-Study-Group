{
  "nbformat": 4,
  "nbformat_minor": 0,
  "metadata": {
    "colab": {
      "name": "Untitled1.ipynb",
      "provenance": [],
      "authorship_tag": "ABX9TyOdY2Fcavtm9qgJznX973AX",
      "include_colab_link": true
    },
    "kernelspec": {
      "name": "python3",
      "display_name": "Python 3"
    }
  },
  "cells": [
    {
      "cell_type": "markdown",
      "metadata": {
        "id": "view-in-github",
        "colab_type": "text"
      },
      "source": [
        "<a href=\"https://colab.research.google.com/github/jenrios14/Data-Science-FEM-Study-Group/blob/master/Tarea%205%20y%206.ipynb\" target=\"_parent\"><img src=\"https://colab.research.google.com/assets/colab-badge.svg\" alt=\"Open In Colab\"/></a>"
      ]
    },
    {
      "cell_type": "markdown",
      "metadata": {
        "id": "-KaJawAHrlnm",
        "colab_type": "text"
      },
      "source": [
        "## **Tarea 5: Loop**"
      ]
    },
    {
      "cell_type": "code",
      "metadata": {
        "id": "77zSpxCIrSvI",
        "colab_type": "code",
        "colab": {
          "base_uri": "https://localhost:8080/",
          "height": 69
        },
        "outputId": "fa546e9e-9bc4-44f4-8f20-6611b7be14cf"
      },
      "source": [
        "if __name__ == '__main__':\n",
        "    n = int(input())\n",
        "    i = 0\n",
        "while i < n: \n",
        "    print (i**2)\n",
        "    i+=1"
      ],
      "execution_count": 8,
      "outputs": [
        {
          "output_type": "stream",
          "text": [
            "2\n",
            "0\n",
            "1\n"
          ],
          "name": "stdout"
        }
      ]
    },
    {
      "cell_type": "markdown",
      "metadata": {
        "id": "4KK-7BjTr4Uc",
        "colab_type": "text"
      },
      "source": [
        "## **Tarea 6: Write a function**"
      ]
    },
    {
      "cell_type": "code",
      "metadata": {
        "id": "ceGauSfKr9hz",
        "colab_type": "code",
        "colab": {
          "base_uri": "https://localhost:8080/",
          "height": 52
        },
        "outputId": "c850f56c-77a9-4e00-fc45-3a2694ad75d1"
      },
      "source": [
        "def is_leap(year):\n",
        "    leap = False\n",
        "    if 1900 <= year <= 10**5 and year % 4 == 0 and (year % 100 != 0 or year % 400 == 0):\n",
        "      leap = True\n",
        "    \n",
        "    return leap\n",
        "year = int(input())\n",
        "print(is_leap(year))\n"
      ],
      "execution_count": 50,
      "outputs": [
        {
          "output_type": "stream",
          "text": [
            "2000\n",
            "True\n"
          ],
          "name": "stdout"
        }
      ]
    }
  ]
}