{
  "nbformat": 4,
  "nbformat_minor": 0,
  "metadata": {
    "colab": {
      "name": "Hackerrank: Tarea 1 y 2.ipynb",
      "provenance": [],
      "include_colab_link": true
    },
    "kernelspec": {
      "name": "python3",
      "display_name": "Python 3"
    }
  },
  "cells": [
    {
      "cell_type": "markdown",
      "metadata": {
        "id": "view-in-github",
        "colab_type": "text"
      },
      "source": [
        "<a href=\"https://colab.research.google.com/github/jenrios14/Data-Science-FEM-Study-Group/blob/master/Hackerrank_Tarea_1_y_2.ipynb\" target=\"_parent\"><img src=\"https://colab.research.google.com/assets/colab-badge.svg\" alt=\"Open In Colab\"/></a>"
      ]
    },
    {
      "cell_type": "markdown",
      "metadata": {
        "id": "4R9oml59z0b0",
        "colab_type": "text"
      },
      "source": [
        "## **Tarea 1: Hello world**"
      ]
    },
    {
      "cell_type": "code",
      "metadata": {
        "id": "Mwok6vnTjqda",
        "colab_type": "code",
        "outputId": "655e4aab-1631-4963-debb-231f168d0c08",
        "colab": {
          "base_uri": "https://localhost:8080/",
          "height": 34
        }
      },
      "source": [
        "#Forma 1\n",
        "mensaje = 'Hello, World!'\n",
        "print(mensaje)\n"
      ],
      "execution_count": 91,
      "outputs": [
        {
          "output_type": "stream",
          "text": [
            "Hello, World!\n"
          ],
          "name": "stdout"
        }
      ]
    },
    {
      "cell_type": "code",
      "metadata": {
        "id": "EfIDTJ7Az-ig",
        "colab_type": "code",
        "colab": {
          "base_uri": "https://localhost:8080/",
          "height": 34
        },
        "outputId": "37e24b9e-d5e7-49f4-c0e0-7a50f1f551a7"
      },
      "source": [
        "#Forma 2\n",
        "print(\"Hello, World!\")"
      ],
      "execution_count": 93,
      "outputs": [
        {
          "output_type": "stream",
          "text": [
            "Hello, World!\n"
          ],
          "name": "stdout"
        }
      ]
    },
    {
      "cell_type": "markdown",
      "metadata": {
        "id": "WKkpNcxI0Goo",
        "colab_type": "text"
      },
      "source": [
        "## **Tarea 2: If else**"
      ]
    },
    {
      "cell_type": "code",
      "metadata": {
        "id": "5d_1z1rwHB4q",
        "colab_type": "code",
        "outputId": "09ac26a1-22ac-476d-d7f8-4f65f9d37a71",
        "colab": {
          "base_uri": "https://localhost:8080/",
          "height": 34
        }
      },
      "source": [
        "import math\n",
        "import os\n",
        "import random\n",
        "import re\n",
        "import sys\n",
        "\n",
        "def main():\n",
        "    n = random.randint(1,100)\n",
        "\n",
        "    if(n>20 and n%2 == 0):\n",
        "        st= \"Not Weird\"\n",
        "    \n",
        "    elif (n>=6 and n<=20 and n%2 == 0):\n",
        "        st= \"Weird\"\n",
        "        \n",
        "    elif (n>=2 and n<=5 and n%2 == 0):\n",
        "        st= \"Not Weird\"\n",
        "    \n",
        "    else:\n",
        "        st=\"Weird\"\n",
        "    print (st)\n",
        "\n",
        "if __name__ == \"__main__\":\n",
        "    main()"
      ],
      "execution_count": 86,
      "outputs": [
        {
          "output_type": "stream",
          "text": [
            "Weird\n"
          ],
          "name": "stdout"
        }
      ]
    },
    {
      "cell_type": "code",
      "metadata": {
        "id": "tY4-LPp4TR4p",
        "colab_type": "code",
        "colab": {}
      },
      "source": [
        ""
      ],
      "execution_count": 0,
      "outputs": []
    }
  ]
}