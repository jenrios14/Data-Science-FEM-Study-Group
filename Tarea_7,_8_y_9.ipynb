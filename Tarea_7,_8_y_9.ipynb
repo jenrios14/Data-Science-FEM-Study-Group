{
  "nbformat": 4,
  "nbformat_minor": 0,
  "metadata": {
    "colab": {
      "name": "Tarea 7, 8 y 9.ipynb",
      "provenance": [],
      "authorship_tag": "ABX9TyPDNVI9I4msuhVLPKAVYHR6",
      "include_colab_link": true
    },
    "kernelspec": {
      "name": "python2",
      "display_name": "Python 2"
    }
  },
  "cells": [
    {
      "cell_type": "markdown",
      "metadata": {
        "id": "view-in-github",
        "colab_type": "text"
      },
      "source": [
        "<a href=\"https://colab.research.google.com/github/jenrios14/Data-Science-FEM-Study-Group/blob/master/Tarea_7%2C_8_y_9.ipynb\" target=\"_parent\"><img src=\"https://colab.research.google.com/assets/colab-badge.svg\" alt=\"Open In Colab\"/></a>"
      ]
    },
    {
      "cell_type": "markdown",
      "metadata": {
        "id": "ta-b5j8q-UV6",
        "colab_type": "text"
      },
      "source": [
        "## **Tarea 7: Print Function**"
      ]
    },
    {
      "cell_type": "code",
      "metadata": {
        "id": "hDUdR2kY9ApX",
        "colab_type": "code",
        "colab": {
          "base_uri": "https://localhost:8080/",
          "height": 52
        },
        "outputId": "d71cadf8-4460-4894-9a49-5d97c302dc8f"
      },
      "source": [
        "from __future__ import print_function\n",
        "\n",
        "if __name__ == '__main__':\n",
        "    n = int(input())\n",
        "    i = 1\n",
        "\n",
        "while i <= n:\n",
        "  print(i, sep=' ', end='')\n",
        "  i+=1"
      ],
      "execution_count": 5,
      "outputs": [
        {
          "output_type": "stream",
          "text": [
            "3\n",
            "123"
          ],
          "name": "stdout"
        }
      ]
    },
    {
      "cell_type": "markdown",
      "metadata": {
        "id": "trHCeTPlBXeE",
        "colab_type": "text"
      },
      "source": [
        "## **Tarea 8: List Comprehension**"
      ]
    },
    {
      "cell_type": "code",
      "metadata": {
        "id": "KpE0BHN1BfY3",
        "colab_type": "code",
        "colab": {
          "base_uri": "https://localhost:8080/",
          "height": 124
        },
        "outputId": "eb3334d0-836b-4525-cce4-f6507ab0edde"
      },
      "source": [
        "if __name__ == '__main__':\n",
        "    x = int(raw_input())\n",
        "    y = int(raw_input())\n",
        "    z = int(raw_input())\n",
        "    n = int(raw_input())\n",
        "    print ( [ [i,j,k] for i in range(x+1) for j in range(y+1) for k in range(z+1) if i+j+k != n ])\n"
      ],
      "execution_count": 27,
      "outputs": [
        {
          "output_type": "stream",
          "text": [
            "2\n",
            "2\n",
            "2\n",
            "2\n",
            "[[0, 0, 0], [0, 0, 1], [0, 1, 0], [0, 1, 2], [0, 2, 1], [0, 2, 2], [1, 0, 0], [1, 0, 2], [1, 1, 1], [1, 1, 2], [1, 2, 0], [1, 2, 1], [1, 2, 2], [2, 0, 1], [2, 0, 2], [2, 1, 0], [2, 1, 1], [2, 1, 2], [2, 2, 0], [2, 2, 1], [2, 2, 2]]\n"
          ],
          "name": "stdout"
        }
      ]
    },
    {
      "cell_type": "markdown",
      "metadata": {
        "id": "On-WU9xqGzo3",
        "colab_type": "text"
      },
      "source": [
        "## **Tarea 9: Find the Runner-Up Score**"
      ]
    },
    {
      "cell_type": "code",
      "metadata": {
        "id": "wDFgOzGqFFfm",
        "colab_type": "code",
        "colab": {}
      },
      "source": [
        "if __name__ == '__main__':\n",
        "    n = int(raw_input())\n",
        "    arr = map(int, raw_input().split())"
      ],
      "execution_count": 0,
      "outputs": []
    }
  ]
}