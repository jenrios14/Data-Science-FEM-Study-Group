{
  "nbformat": 4,
  "nbformat_minor": 0,
  "metadata": {
    "colab": {
      "name": "Tarea 7: Print Function.ipynb",
      "provenance": [],
      "authorship_tag": "ABX9TyOsFv49vfCVOkICs91iMpPO",
      "include_colab_link": true
    },
    "kernelspec": {
      "name": "python2",
      "display_name": "Python 2"
    }
  },
  "cells": [
    {
      "cell_type": "markdown",
      "metadata": {
        "id": "view-in-github",
        "colab_type": "text"
      },
      "source": [
        "<a href=\"https://colab.research.google.com/github/jenrios14/Data-Science-FEM-Study-Group/blob/master/Tarea_7_Print_Function.ipynb\" target=\"_parent\"><img src=\"https://colab.research.google.com/assets/colab-badge.svg\" alt=\"Open In Colab\"/></a>"
      ]
    },
    {
      "cell_type": "markdown",
      "metadata": {
        "id": "ta-b5j8q-UV6",
        "colab_type": "text"
      },
      "source": [
        "## **Tarea 7: Print Function**"
      ]
    },
    {
      "cell_type": "code",
      "metadata": {
        "id": "hDUdR2kY9ApX",
        "colab_type": "code",
        "colab": {
          "base_uri": "https://localhost:8080/",
          "height": 52
        },
        "outputId": "d71cadf8-4460-4894-9a49-5d97c302dc8f"
      },
      "source": [
        "from __future__ import print_function\n",
        "\n",
        "if __name__ == '__main__':\n",
        "    n = int(input())\n",
        "    i = 1\n",
        "\n",
        "while i <= n:\n",
        "  print(i, sep=' ', end='')\n",
        "  i+=1"
      ],
      "execution_count": 5,
      "outputs": [
        {
          "output_type": "stream",
          "text": [
            "3\n",
            "123"
          ],
          "name": "stdout"
        }
      ]
    }
  ]
}